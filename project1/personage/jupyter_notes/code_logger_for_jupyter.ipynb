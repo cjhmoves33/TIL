{
 "cells": [
  {
   "cell_type": "code",
   "execution_count": 13,
   "id": "fb4ddb05",
   "metadata": {},
   "outputs": [
    {
     "name": "stderr",
     "output_type": "stream",
     "text": [
      "\n",
      "2021-06-21 15:12:29,916 \n",
      "<ipython-input-13-e3a30833e43d> \n",
      "__main__   INFO \n",
      "-----Testing With name-----\n",
      "\n",
      "INFO:__main__:-----Testing With name-----\n"
     ]
    }
   ],
   "source": [
    "\n",
    "import logging\n",
    "\n",
    "def mk_logger(name : str):\n",
    "    #인자 입력할 필요없음, 임포트한 파일 명으로 자동생성\n",
    "    FORMAT = \"\\n%(asctime)s \\n%(pathname)s \\n%(name)-10s %(levelname)s \\n%(message)s\\n\"\n",
    "    #포맷으로 사용할 양식 미리 설정\n",
    "    ref = f\"/Users/choijaeha/Desktop/personage_second/codes/log_saver/{name}.log\"\n",
    "    #로그파일이 만들어질 경로, 파일명을 인자로 받음.\n",
    "\n",
    "    logging.basicConfig(level=logging.DEBUG)\n",
    "\n",
    "    logger = logging.getLogger(name)\n",
    "\n",
    "    s_hdl = logging.StreamHandler()\n",
    "    f_hdl = logging.FileHandler(filename=ref, mode=\"a\", encoding=\"utf8\")\n",
    "    #파일핸들러로 생성할 파일명은 str로 입력해야하는데, 경로를 입력하면 자동으로 경로를찾고 파일을 생성한다.\n",
    "    \n",
    "    formater = logging.Formatter(FORMAT)\n",
    "    s_hdl.setFormatter(formater)\n",
    "    f_hdl.setFormatter(formater)\n",
    "\n",
    "    logger.addHandler(s_hdl)\n",
    "    logger.addHandler(f_hdl)\n",
    "\n",
    "\n",
    "    return logger\n",
    "\n",
    "if __name__ == \"__main__\":\n",
    "    tester_logger = mk_logger()\n",
    "    tester_logger.info(\"-----Testing With name-----\")\n",
    "\n",
    "\n"
   ]
  }
 ],
 "metadata": {
  "kernelspec": {
   "display_name": "Python 3",
   "language": "python",
   "name": "python3"
  },
  "language_info": {
   "codemirror_mode": {
    "name": "ipython",
    "version": 3
   },
   "file_extension": ".py",
   "mimetype": "text/x-python",
   "name": "python",
   "nbconvert_exporter": "python",
   "pygments_lexer": "ipython3",
   "version": "3.8.8"
  }
 },
 "nbformat": 4,
 "nbformat_minor": 5
}
