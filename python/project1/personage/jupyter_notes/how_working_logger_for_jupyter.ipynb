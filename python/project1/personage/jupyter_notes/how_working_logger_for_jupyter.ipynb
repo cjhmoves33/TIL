{
 "cells": [
  {
   "cell_type": "code",
   "execution_count": 1,
   "id": "1e61ad68",
   "metadata": {},
   "outputs": [
    {
     "name": "stderr",
     "output_type": "stream",
     "text": [
      "2021-06-21 09:57:13,818 <ipython-input-1-19db73797157> \n",
      "tester_h INFO information\n"
     ]
    }
   ],
   "source": [
    "###############################로그함수를 만들기위한 논리적과정일뿐###############################\n",
    "\n",
    "\n",
    "import logging\n",
    "\n",
    "FORMAT = \"\\n%(asctime)s \\n%(pathname)s \\n%(name)-10s %(levelname)s \\n%(message)s\\n\"\n",
    "#포맷내용을 객체화 #포맷을 설정하기 전에는 기본적으로 levelname:name:message가 출력된다.\n",
    "#포맷을 설정한 후에는 포맷팅이 된 내용을 출력.\n",
    "\n",
    "logging.basicConfig(\n",
    "    level=logging.DEBUG #일단 기본레벨을 디버그로 설정\n",
    ")\n",
    "\n",
    "root_log = logging.getLogger()\n",
    "root_log.setLevel(logging.INFO)\n",
    "\n",
    "\n",
    "tester_h = logging.getLogger(\"tester_h\")\n",
    " #테스트용. 여기까지 이상 없음.\n",
    "\n",
    "name = __name__ \n",
    "#파일핸들러에 사용될 변수. 이 모듈을 임포트한 곳에서 로그파일 생성시 해당 파일명.log로 생성\n",
    "\n",
    "\n",
    "##########검증구간1##########\n",
    "s_hdl = logging.StreamHandler()\n",
    "f_hdl = logging.FileHandler(\n",
    "    filename=\"%s.log\" % name, mode=\"a\", encoding=\"utf8\"\n",
    ")\n",
    "#filenamd 에 Path객체도 사용가능 3.6이상\n",
    "\n",
    "#따로 포맷을 설정하지 않고 실행.\n",
    "tester_h.addHandler(s_hdl)\n",
    "#스트림핸들러, 파일핸들러 를 동시에 적용\n",
    "tester_h.addHandler(f_hdl)\n",
    "#핸들러가 동시에 적용되도 이상은 없으나, 생성된 로그파일에 아무내용도 저장되지 않음.\n",
    "#현재모듈에서 실행했기때문에 로그파일명은 __main__.log가 된다.\n",
    "#포맷을 각각 핸들러에 다시 설정해줘야한다.\n",
    "\n",
    "root_format = logging.Formatter(FORMAT)\n",
    "s_hdl.setFormatter(root_format)\n",
    "f_hdl.setFormatter(root_format)\n",
    "#각각 핸들러에 포맷을 설정\n",
    "#vsc실행환경의 경로가 \n",
    "#(base) choijaeha@choejaehaui-MacBookAir personage_second로\n",
    "#되어있기 때문에 해당디렉토리로 파일이 생성되는 것을 확인할 수 있음.\n",
    "\n",
    "tester_h.info(\"-----Testing With tester_h-----\")\n",
    "\n",
    "\n"
   ]
  }
 ],
 "metadata": {
  "kernelspec": {
   "display_name": "Python 3",
   "language": "python",
   "name": "python3"
  },
  "language_info": {
   "codemirror_mode": {
    "name": "ipython",
    "version": 3
   },
   "file_extension": ".py",
   "mimetype": "text/x-python",
   "name": "python",
   "nbconvert_exporter": "python",
   "pygments_lexer": "ipython3",
   "version": "3.9.1"
  }
 },
 "nbformat": 4,
 "nbformat_minor": 5
}
