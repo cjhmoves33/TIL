{
 "cells": [
  {
   "cell_type": "code",
   "execution_count": null,
   "id": "f166fdb0",
   "metadata": {},
   "outputs": [],
   "source": [
    "import os\n",
    "from pathlib import Path\n",
    "import pickle\n",
    "import logging_func as lfc\n",
    "\n",
    "data_dir = \"/Users/choijaeha/Desktop/personage/person_data\"\n",
    "path_data = Path(data_dir) #->PosixPath('/Users/choijaeha/Desktop/personage/person_data')\n",
    "path_personage_list = Path(path_data, \"personage_list.pickle\") #확장자 pickle\n",
    "\n",
    "my_logger = lfc.mk_logger()\n",
    "\n",
    "def personage_controller(): #함수 실행시 personage_list.pickle파일을 생성(없을 시)\n",
    "    if not os.path.isfile(path_personage_list): \n",
    "        with path_personage_list.open(\"w\")as file:\n",
    "            file.write(\"\")#pickle파일 생성시 \"\"만 입력하면 빈 파일일 생성된다. 절대 mode=\"w\"로 내용을 적으면 안된다.\n",
    "    \n",
    "    \n",
    "    starter = True\n",
    "    while starter != False:\n",
    "        input_menu = str(input(\"\\n🕹controller🕹\\n👊add-인물명을 추가합니다.\\n👊list-등록된 인물명을 출력합니다.\\n입력 : \")).lower() \n",
    "        ##컨트롤러 메뉴에는 add, list가 있다.\n",
    "        \n",
    "        if input_menu == \"add\": #인물명을 입력 띄어쓰기는 \"_\", exit입력 시 컨트롤러 메뉴로 돌아간다.\n",
    "            while True:\n",
    "                personage_name = input(\"add name you want : \").lower()\n",
    "                if personage_name == \"exit\":\n",
    "                    break\n",
    "                with path_personage_list.open(\"ab\")as list_file_a: #pickle은 utf8 처리를 하지않는다. mode = ab, rb, wb \n",
    "                    pickle.dump(personage_name, list_file_a) #inpu으로 받은 인물명(type = str)은 pickle파일로 한 줄씩 dump된다.\n",
    "                continue\n",
    "            continue\n",
    "        elif input_menu == \"list\":\n",
    "            #인물리스트파일(.pickle)에서 인물명을 한줄 씩 읽어온뒤 빈list에 append한 후 출력한다.\n",
    "            try:\n",
    "                with path_personage_list.open(\"rb\")as list_file_r:\n",
    "                    loaded = list()\n",
    "                    while True: \n",
    "                        #pickle파일은 기본적으로 한줄씩 불러오기때문에 전부 출력하기 위해서는 \n",
    "                        #while문으로 불러서 except EOFError로 \"멈춰!\"준다.\n",
    "                        try:\n",
    "                            load_list = pickle.load(list_file_r)\n",
    "                        except EOFError :\n",
    "                            break\n",
    "                        loaded.append(load_list)\n",
    "                    print(loaded) #terminal 환경에 출력.                        \n",
    "            except FileNotFoundError as err: #사실 메인함수 실행시 자동으로 생성이 되지만 혹시모를 상황에 대비. 추후 로깅함수 입력예정)\n",
    "                print( \"파일이 존재하지않습니다.\" ,err)\n",
    "                continue\n",
    "        elif input_menu == \"exit\":\n",
    "            print(\"Thanks for comed!\")\n",
    "            break\n",
    "\n",
    "if __name__ == \"__main__\":\n",
    "    personage_controller()"
   ]
  },
  {
   "cell_type": "code",
   "execution_count": null,
   "id": "85b4052d",
   "metadata": {},
   "outputs": [
    {
     "name": "stdout",
     "output_type": "stream",
     "text": [
      "[controller]\n",
      "👊add-인물명을 추가합니다.\n",
      "👊list-등록된 인물명을 출력합니다.\n",
      "입력 : list\n",
      "['souza', 'soousza', 'adm', 'adm']\n"
     ]
    }
   ],
   "source": [
    "personage_controller()"
   ]
  },
  {
   "cell_type": "code",
   "execution_count": null,
   "id": "94ae7fe8",
   "metadata": {},
   "outputs": [],
   "source": [
    "##########중복되는 이름이 없도록 코드 수정필요##########"
   ]
  }
 ],
 "metadata": {
  "kernelspec": {
   "display_name": "Python 3",
   "language": "python",
   "name": "python3"
  },
  "language_info": {
   "codemirror_mode": {
    "name": "ipython",
    "version": 3
   },
   "file_extension": ".py",
   "mimetype": "text/x-python",
   "name": "python",
   "nbconvert_exporter": "python",
   "pygments_lexer": "ipython3",
   "version": "3.9.1"
  }
 },
 "nbformat": 4,
 "nbformat_minor": 5
}
