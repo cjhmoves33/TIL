{
 "cells": [
  {
   "cell_type": "code",
   "execution_count": 11,
   "id": "73c5de92",
   "metadata": {},
   "outputs": [
    {
     "name": "stdout",
     "output_type": "stream",
     "text": [
      "36\n",
      "36\n"
     ]
    }
   ],
   "source": [
    "#최대공약수(gcd)를 구하는 알고리즘\n",
    "def gcd(a, b):\n",
    "    while a != 0 and b != 0:\n",
    "        if a > b:\n",
    "            a = a%b\n",
    "        else:\n",
    "            b = b%a\n",
    "    return a+b\n",
    "print(gcd(19332, 78696))\n",
    "\n",
    "\n",
    "#gcd를 재귀적으로 구하는 알고리즘\n",
    "def gcd_r(a, b):\n",
    "    if a == 0 or b == 0:\n",
    "        return a+b\n",
    "    if a > b:\n",
    "        return gcd_r(a%b, b)\n",
    "    else:\n",
    "        return gcd_r(a, b%a)\n",
    "\n",
    "print(gcd_r(19332, 78696))"
   ]
  },
  {
   "cell_type": "code",
   "execution_count": 2,
   "id": "51d68f18",
   "metadata": {},
   "outputs": [
    {
     "ename": "IndentationError",
     "evalue": "unexpected indent (2048175262.py, line 3)",
     "output_type": "error",
     "traceback": [
      "\u001b[0;36m  File \u001b[0;32m\"/var/folders/wv/ybl8vd8d329gm10hcf3nyc180000gn/T/ipykernel_4495/2048175262.py\"\u001b[0;36m, line \u001b[0;32m3\u001b[0m\n\u001b[0;31m    for i in range(len(li)):\u001b[0m\n\u001b[0m    ^\u001b[0m\n\u001b[0;31mIndentationError\u001b[0m\u001b[0;31m:\u001b[0m unexpected indent\n"
     ]
    }
   ],
   "source": [
    "def sum_1 (li:list):\n",
    "    sum_ = 0\n",
    "        for i in range(len(li)):\n",
    "    if li[i] % 2 == 0:\n",
    "        sum_ += li[i]      \n",
    "        return sum_\n",
    "list_ = [2,4,6,8,10,12]\n",
    "print(sum_1(list_))\n",
    "#T(n) = 4n + 1 , n에관한 1차식\n",
    "\n",
    "\n",
    "def sum_2 (li:list):\n",
    "    sum_ = 0\n",
    "    for i in range(len(li)):\n",
    "        for j in range(i, len(li)):\n",
    "            sum_ += li[i]*li[j]\n",
    "    return sum_\n",
    "print(sum_2(list_))\n",
    "#T(n) = 3/2*n^2 + 3/2*n + 1 , n에관한 2차식\n"
   ]
  },
  {
   "cell_type": "code",
   "execution_count": 3,
   "id": "63479460",
   "metadata": {
    "scrolled": true
   },
   "outputs": [
    {
     "name": "stdout",
     "output_type": "stream",
     "text": [
      "45\n"
     ]
    }
   ],
   "source": [
    "\n",
    "#recursion ex\n",
    "def sum(n):\n",
    "    if n == 1:\n",
    "        return 1\n",
    "    else:\n",
    "        return sum(n-1) + n\n",
    "print(sum(9))"
   ]
  },
  {
   "cell_type": "code",
   "execution_count": 4,
   "id": "f3c784ab",
   "metadata": {},
   "outputs": [
    {
     "data": {
      "text/plain": [
       "[6, 5, 4, 3, 2, 1]"
      ]
     },
     "execution_count": 4,
     "metadata": {},
     "output_type": "execute_result"
    }
   ],
   "source": [
    "#reverse function\n",
    "\n",
    "li_ = [1,2,3,4,5,6]\n",
    "\n",
    "def reverse(li_):\n",
    "    if len(li_) == 1:\n",
    "        return li_\n",
    "    return reverse(li_[1:]) + li_[:1]\n",
    "reverse(li_)\n",
    "#T(n) = T(n-1) + C = O(n)\n"
   ]
  },
  {
   "cell_type": "code",
   "execution_count": 5,
   "id": "fafa44c6",
   "metadata": {},
   "outputs": [
    {
     "data": {
      "text/plain": [
       "9"
      ]
     },
     "execution_count": 5,
     "metadata": {},
     "output_type": "execute_result"
    }
   ],
   "source": [
    "#최대값  찾기\n",
    "\n",
    "li_ = [1,2,3,9,5,6,7,8]\n",
    "\n",
    "def maxm(li):\n",
    "    pivot = li[0]\n",
    "    for i in li[1:]:\n",
    "        if i > pivot:\n",
    "            pivot = i\n",
    "    return pivot\n",
    "\n",
    "maxm(li_)\n",
    "#O(n)"
   ]
  },
  {
   "cell_type": "code",
   "execution_count": 6,
   "id": "3c15922a",
   "metadata": {},
   "outputs": [
    {
     "name": "stdout",
     "output_type": "stream",
     "text": [
      "26\n",
      "1\n"
     ]
    }
   ],
   "source": [
    "#최대값 최소값 동시에 찾기\n",
    "\n",
    "li_ = [1,2,3,9,2,4,5,26]\n",
    "min_li = []\n",
    "\n",
    "def maxmin(li, leng):\n",
    "    m = leng//2\n",
    "    \n",
    "    if len(li) == 2:\n",
    "        if li[0]>li[1]:\n",
    "            return li[0]\n",
    "        else:\n",
    "            min_li.append(li[0])\n",
    "            return li[1]\n",
    "        \n",
    "    li_1 = li[0:m]\n",
    "    li_2 = li[m:]\n",
    "    \n",
    "    one = maxmin(li_1, m)\n",
    "    two = maxmin(li_2, m)\n",
    "    \n",
    "    if one > two:\n",
    "        return one\n",
    "    else:\n",
    "        return two\n",
    "\n",
    "def minmin(li):\n",
    "    pivot = li[0]\n",
    "    for i in li[1:]:\n",
    "        if pivot > i:\n",
    "            pivot = i\n",
    "    return pivot\n",
    "\n",
    "print(maxmin(li_, 8))\n",
    "print(minmin(min_li))\n",
    "\n",
    "#최대값을 구하는 함수는 재귀적으로 작동하게 되는데 최종적으로 1.배열의 값이 2개남을 때까지 내려간다. 그렇게되면 2.요소의 값을 비교할 수 있게 되는데,\n",
    "#3.비교 시 큰 값들이 계속 리턴되어서 결국 가장 큰 값을 리턴하게 되는 구조\n",
    "\n",
    "# \"1.\" 단계에서 상대적으로 작은값들 중에는 반드시 최소값이 포함되어있다.\n",
    "#그 수들만 빼내서 최소값을 구하는 함수를 실행\n",
    "\n",
    "#최소값이나 최대값을 구하려면 반드시 n-1번 연산을 해야만 하는데, 최대값을 구하는 함수에서 최소값후보들을 미리 빼놨다.(전체 배열의 절반)\n",
    "#수행시간이 2n-2 걸릴 연산을, (3/2)n -2 로 줄일 수 있게 됐다."
   ]
  },
  {
   "cell_type": "code",
   "execution_count": 7,
   "id": "a16c44f4",
   "metadata": {},
   "outputs": [
    {
     "data": {
      "text/plain": [
       "(1, 2)"
      ]
     },
     "execution_count": 7,
     "metadata": {},
     "output_type": "execute_result"
    }
   ],
   "source": [
    "#첫번째로 작은수, 두번째로 작은수 동시에 찾기\n",
    "\n",
    "def smaller(arr):\n",
    "    second = smallest = float(\"inf\")\n",
    "    \n",
    "    for i in arr:\n",
    "        if i < smallest:\n",
    "            second = smallest\n",
    "            smallest = i\n",
    "        elif second > i > smallest:\n",
    "            second = i\n",
    "    return smallest, second\n",
    "arr = [123,122,5143,2,4,6745,54,310,1]\n",
    "smaller(arr)\n",
    "\n",
    "#O(n)"
   ]
  },
  {
   "cell_type": "code",
   "execution_count": 8,
   "id": "b0fb6765",
   "metadata": {},
   "outputs": [
    {
     "data": {
      "text/plain": [
       "2"
      ]
     },
     "execution_count": 8,
     "metadata": {},
     "output_type": "execute_result"
    }
   ],
   "source": [
    "#n개의 값 중에서 k번째로 작은 수 찾기\n",
    "#Quick Select\n",
    "\n",
    "arr = [31,2,423,4,75,14,47,28,69,160]\n",
    "\n",
    "def quick_s(arr, k, p):\n",
    "    pivot = p\n",
    "    small = []\n",
    "    median = []\n",
    "    big = []\n",
    "    for numeric in arr:\n",
    "        if numeric < pivot:\n",
    "            small.append(numeric)\n",
    "        elif numeric == pivot:\n",
    "            median.append(numeric)\n",
    "        else:\n",
    "            big.append(numeric)\n",
    "    if len(small) > k:\n",
    "        return quick_s(small, k, small[0])\n",
    "    elif len(small) + len(median) >= k:\n",
    "        return pivot\n",
    "    else:\n",
    "        return quick_s(big, k - len(small) - len(median), big[0])\n",
    "        \n",
    "quick_s(arr, 1, arr[0])\n",
    "\n",
    "#bestCase, O(n)\n",
    "#worstCase, O(n^2)\n",
    "#avrCase, O(n)"
   ]
  },
  {
   "cell_type": "code",
   "execution_count": 9,
   "id": "5fa4b1c3",
   "metadata": {
    "scrolled": true
   },
   "outputs": [
    {
     "data": {
      "text/plain": [
       "8"
      ]
     },
     "execution_count": 9,
     "metadata": {},
     "output_type": "execute_result"
    }
   ],
   "source": [
    "#n개의 값 중에서 k번째로 작은 수 찾기\n",
    "#MoM(Median of Medians)\n",
    "\n",
    "arr = [i for i in range(1,14)]\n",
    "    \n",
    "def Medi(arr, k):\n",
    "    \n",
    "    medians = set()\n",
    "    start = 0\n",
    "    end = 5\n",
    "    pivot = 0\n",
    "    \n",
    "    while start < len(arr):\n",
    "        median = quick_s(arr[start:end], len(arr[start:end])//2+1, arr[0])\n",
    "        medians.add(median)\n",
    "        start+=5\n",
    "        end+=5\n",
    "        \n",
    "    pivot = quick_s(list(medians), len(medians)//2, list(medians)[0])\n",
    "    \n",
    "    return quick_s(arr, k, pivot)\n",
    "\n",
    "Medi(arr, 7)"
   ]
  },
  {
   "cell_type": "code",
   "execution_count": 16,
   "id": "6624f3f2",
   "metadata": {},
   "outputs": [
    {
     "data": {
      "text/plain": [
       "3125"
      ]
     },
     "execution_count": 16,
     "metadata": {},
     "output_type": "execute_result"
    }
   ],
   "source": [
    "#거듭제곱 구하기\n",
    "\n",
    "def poweeer(a, k):\n",
    "    \n",
    "    if k == 1 :\n",
    "        return a\n",
    "    \n",
    "    aa = poweeer(a, k//2)\n",
    "    \n",
    "    if k % 2 == 0:\n",
    "        return aa * aa\n",
    "    else:\n",
    "        return aa * aa * a\n",
    "\n",
    "poweeer(5, 5)\n",
    "\n",
    "# T(n) = \"T(n/2^k)+C\"재귀적으로 반복\n",
    "# T(n/2^k)가 1이 될 때 계산식은, T(n/2^k) + kc => c(k+1)\n",
    "# n = 2^k 이기 때문에, O(logn)"
   ]
  },
  {
   "cell_type": "code",
   "execution_count": 51,
   "id": "28dc6b2d",
   "metadata": {},
   "outputs": [
    {
     "data": {
      "text/plain": [
       "([89, 55], [55, 34])"
      ]
     },
     "execution_count": 51,
     "metadata": {},
     "output_type": "execute_result"
    }
   ],
   "source": [
    "#피보나치 수열 구하기\n",
    "\n",
    "\n",
    "base_row1 = [1,1]\n",
    "base_row2 = [1,0]\n",
    "\n",
    "def fibo(base_row1, base_row2, n):\n",
    "    if n == 0:\n",
    "        return base_row2[1]\n",
    "    \n",
    "    if n == 1:\n",
    "        return base_row1, base_row2\n",
    "    \n",
    "    f1, f2 = fibo(base_row1, base_row2, n//2)\n",
    "    \n",
    "    one_one = (f1[0] * f1[0]) + (f1[1] * f1[1])\n",
    "    one_two = (f1[0] * f2[0]) + (f1[1] * f2[1])\n",
    "    two_one = (f2[0] * f1[0]) + (f2[1] * f1[1])\n",
    "    two_two = (f2[0] * f2[0]) + (f2[1] * f2[1])\n",
    "        \n",
    "    f_r1 = [one_one, one_two]\n",
    "    f_r2 = [two_one, two_two]\n",
    "    \n",
    "    if n % 2 == 0:\n",
    "        \n",
    "        return f_r1, f_r2\n",
    "        \n",
    "    else:\n",
    "        \n",
    "        one_one = (f_r1[0] * base_row1[0]) + (f_r1[1] * base_row1[1])\n",
    "        one_two = (f_r1[0] * base_row2[0]) + (f_r1[1] * base_row2[1])\n",
    "        two_one = (f_r2[0] * base_row1[0]) + (f_r2[1] * base_row1[1])\n",
    "        two_two = (f_r2[0] * base_row2[0]) + (f_r2[1] * base_row2[1])\n",
    "        \n",
    "        f_r1 = [one_one, one_two]\n",
    "        f_r2 = [two_one, two_two]\n",
    "        \n",
    "        return f_r1, f_r2\n",
    "\n",
    "fibo(base_row1, base_row2, 10)\n",
    "\n",
    "# 함수 fibo()의 인자로 base행렬과 정수가 들어가게 되는데 총 4개의 수가 반환되는것을 볼 수 있다. ex) ([2,1], [1,1])\n",
    "# 오른쪽에서부터 (인자)번째 값, (인자+1)번째 값, (인자+1)번째 값, (인자+2)번째 값이다.\n",
    "# 즉 피보나치 수열의 5번째 값을 알고 싶으면 인자의 정수부에 5를 입력. //([8, 5], [5, 3])\n",
    "# 제일 오른쪽 값이 피보나치 수열의 5번째값, 중간 두값은 수열의 6번째값, 제일 왼쪽값은 수열의7번째 값이 나온다.\n",
    "\n"
   ]
  },
  {
   "cell_type": "code",
   "execution_count": 51,
   "id": "74eeb9ee",
   "metadata": {},
   "outputs": [
    {
     "data": {
      "text/plain": [
       "998001"
      ]
     },
     "execution_count": 51,
     "metadata": {},
     "output_type": "execute_result"
    }
   ],
   "source": [
    "#카라추바 알고리즘 (큰 두 수의 곱셈)\n",
    "\n",
    "# 큰 두수 x, y의 곱을 O(n^log3)으로 구하기\n",
    "\n",
    "def karatsuba(digit1, digit2):\n",
    "    strx, stry = str(digit1), str(digit2)\n",
    "    lenx, leny = len(strx), len(stry)\n",
    "    \n",
    "    if lenx == 1 or leny == 1:\n",
    "        return digit1 * digit2\n",
    "    \n",
    "    m = min(lenx, leny)//2\n",
    "    a, b = int(strx[:-m]), int(strx[-m:])\n",
    "    c, d = int(stry[:-m]), int(stry[-m:])\n",
    "    \n",
    "    ac = karatsuba(a, c)\n",
    "    bd = karatsuba(d, d)\n",
    "    ad_bc = karatsuba(a+b, c+d) - ac - bd\n",
    "    \n",
    "    return 10**(2*m)*ac + 10**m *ad_bc +bd\n",
    "\n",
    "karatsuba(999, 999)"
   ]
  },
  {
   "cell_type": "code",
   "execution_count": 89,
   "id": "04cfa8cf",
   "metadata": {},
   "outputs": [
    {
     "data": {
      "text/plain": [
       "'\\n\\n////////////////////////////////////...미제...////////////////////////////////////\\n\\n'"
      ]
     },
     "execution_count": 89,
     "metadata": {},
     "output_type": "execute_result"
    }
   ],
   "source": [
    "#in-place quickSort algorithm\n",
    "\n",
    "def ip_quick_sort(arr, first, last):\n",
    "    if last <= 0:\n",
    "        return \"done\"\n",
    "    p, left, right = arr[first], first+1, last\n",
    "    while left <= right :\n",
    "        while left <= last and arr[left] < p:\n",
    "            left += 1;\n",
    "        while right >= first and arr[right] > p:\n",
    "            right += -1;\n",
    "        if left <= right:\n",
    "            arr[left], arr[right] = arr[right], arr[left];\n",
    "            left +=1;\n",
    "            right += -1;\n",
    "    arr[first], arr[right] = arr[right], arr[first]\n",
    "    print(p, left, right)\n",
    "#     ip_quick_sort(arr, first, right-1)\n",
    "#     ip_quick_sort(arr, left, last)\n",
    "\n",
    "arr = [7, 4, 2, 1, 4, 3, 5]\n",
    "\n",
    "\"\"\"\n",
    "\n",
    "////////////////////////////////////...미제...////////////////////////////////////\n",
    "\n",
    "\"\"\""
   ]
  }
 ],
 "metadata": {
  "kernelspec": {
   "display_name": "Python 3 (ipykernel)",
   "language": "python",
   "name": "python3"
  },
  "language_info": {
   "codemirror_mode": {
    "name": "ipython",
    "version": 3
   },
   "file_extension": ".py",
   "mimetype": "text/x-python",
   "name": "python",
   "nbconvert_exporter": "python",
   "pygments_lexer": "ipython3",
   "version": "3.9.5"
  }
 },
 "nbformat": 4,
 "nbformat_minor": 5
}
