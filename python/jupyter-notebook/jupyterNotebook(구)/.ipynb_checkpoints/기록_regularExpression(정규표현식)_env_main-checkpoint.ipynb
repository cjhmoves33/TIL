{
 "cells": [
  {
   "cell_type": "code",
   "execution_count": null,
   "id": "96671939",
   "metadata": {},
   "outputs": [],
   "source": [
    "#################### regular expression(정규표현식) ####################\n",
    "\n",
    "#정규표현식은 특정패턴을 입력해서 그에 맞는 값들을 읽는다.\n",
    "#https://regexr.com/60qlp 에서 연습을 한 내용.\n",
    "\n",
    "\n",
    "################################### ⬇️html⬇️ ##########################################\n",
    "<li class=\"category_item\" role=\"presentation\">\n",
    "    <a href=\"#\" role=\"tab\" class=\"_NM_THEME_CATE tab id_living\" aria-selected=\"false\"data-clk=\"tct.fod\" data-panel-code=\"LIVING\">레시피</a>\n",
    "</li>\n",
    "\n",
    "<li class=\"category_item\" role=\"presentation\">\n",
    "    <a href=\"#\" role=\"tab\" class=\"_NM_THEME_CATE tab id_science\"\n",
    "    aria-selected=\"false\"data-clk=\"tct.sci\" data-panel-code=\"SCIENCE\">과학</a>\n",
    "</li>\n",
    "\n",
    "<li class=\"category_item\" role=\"presentation\">\n",
    "    <a href=\"#\" role=\"tab\" class=\"_NM_THEME_CATE tab id_job\" aria-selected=\"false\" data-clk=\"tct.job\" data-panel-code=\"JOB\">JOB&amp;</a>\n",
    "</li>\n",
    "################################### ⬆️html⬆️ ##########################################\n",
    "#네이버홈페이지의 html에서 한 부분을 가져온것이다.\n",
    "\n",
    "[class]{5}=[\"][category_item]{13}[\"]\n",
    "#이렇게 입력을 하게되면 정확히 \"class=\"category_item\"\"를 지정할 수 있다.\n",
    "([<a]{2})(.+)(<\\/a>)\n",
    "#<a href=\"#\" role=\"tab\" class=\"_NM_THEME_CATE tab id_living\" aria-selected=\"false\"data-clk=\"tct.fod\" data-panel-code=\"LIVING\">레시피</a>\n",
    "#이 부분만 지정하게 된다.\n",
    "# . 은 모든문자 범위다."
   ]
  },
  {
   "cell_type": "code",
   "execution_count": null,
   "id": "e2287a62",
   "metadata": {},
   "outputs": [],
   "source": [
    "#참조용 폴더에 정규식이미지파일이 있다.(참조)"
   ]
  }
 ],
 "metadata": {
  "kernelspec": {
   "display_name": "main",
   "language": "python",
   "name": "main"
  },
  "language_info": {
   "codemirror_mode": {
    "name": "ipython",
    "version": 3
   },
   "file_extension": ".py",
   "mimetype": "text/x-python",
   "name": "python",
   "nbconvert_exporter": "python",
   "pygments_lexer": "ipython3",
   "version": "3.9.5"
  }
 },
 "nbformat": 4,
 "nbformat_minor": 5
}
