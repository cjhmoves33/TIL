{
 "cells": [
  {
   "cell_type": "code",
   "execution_count": null,
   "id": "3912f125",
   "metadata": {},
   "outputs": [],
   "source": [
    "#################### csv파일에서 특정기준으로 갯수세기 + 솔팅 ####################\n",
    "\n",
    "from pathlib import Path\n",
    "import csv\n",
    "from collections import defaultdict\n",
    "from operator import itemgetter\n",
    "\n",
    "csv_path = Path(\"md_csv_example.csv\")\n",
    "\n",
    "with csv_path.open(\"r\", encoding=\"utf8\")as csv_ex:\n",
    "    csvfile = csv.reader(csv_ex)\n",
    "    country_counter = defaultdict(int)\n",
    "    counter = 0\n",
    "    for row in csvfile:\n",
    "        if counter == 0:\n",
    "            counter += 1\n",
    "            pass\n",
    "        else:\n",
    "            country_counter[row[2]] += 1\n",
    "    country_counter = dict(country_counter)\n",
    "\n",
    "sorting_csv = sorted(country_counter.items(), key=itemgetter(1), reverse=True)\n",
    "print(sorting_csv[:10])\n",
    "\n",
    ">> [('MIAMI DADE COUNTY', 4315), ('BROWARD COUNTY', 3193), ('PALM BEACH COUNTY', 2791),\n",
    "    ('DUVAL COUNTY', 1894), ('ORANGE COUNTY', 1811), ('PINELLAS COUNTY', 1774), ('POLK COUNTY', 1629),\n",
    "    ('VOLUSIA COUNTY', 1367), ('HILLSBOROUGH COUNTY', 1166), ('MARION COUNTY', 1138)]\n",
    "#좀더 복잡한 상황에 놓여있다고 가정하고 다양한 모듈을 사용해봤다.\n",
    "#open함수를 Path.open()으로 사용한게 보이는데 이는 pathlib모듈에서 Path클래스가 가지는 기능이다.\n",
    "#difaultdict를 사용해서 딕셔너리 틀만 만들고 바로 값들을 대입줬다.\n",
    "#딕셔너리는 바로 솔팅을 하기에 애매하기 때문에 items()를 이용해서 K,V를 튜플로 묶어줬다.\n",
    "#솔팅을 할 때 key에 lambda x: x[1]이렇게 해줘도 무관하다.\n",
    "\n",
    "#간단한 코드에 불필요하게 모듈을 사용한 감이 있지만 경험을 쌓는다는 느낌으로 사용했다."
   ]
  }
 ],
 "metadata": {
  "kernelspec": {
   "display_name": "main",
   "language": "python",
   "name": "main"
  },
  "language_info": {
   "codemirror_mode": {
    "name": "ipython",
    "version": 3
   },
   "file_extension": ".py",
   "mimetype": "text/x-python",
   "name": "python",
   "nbconvert_exporter": "python",
   "pygments_lexer": "ipython3",
   "version": "3.9.5"
  }
 },
 "nbformat": 4,
 "nbformat_minor": 5
}
