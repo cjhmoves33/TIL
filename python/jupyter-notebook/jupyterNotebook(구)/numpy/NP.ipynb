{
 "cells": [
  {
   "cell_type": "code",
   "execution_count": 4,
   "id": "a49c7dab",
   "metadata": {},
   "outputs": [],
   "source": [
    "#2021.7.11"
   ]
  },
  {
   "cell_type": "code",
   "execution_count": 4,
   "id": "acee915d",
   "metadata": {},
   "outputs": [],
   "source": [
    "import numpy as np"
   ]
  },
  {
   "cell_type": "code",
   "execution_count": 5,
   "id": "1e4b8e25",
   "metadata": {},
   "outputs": [
    {
     "data": {
      "text/plain": [
       "array([[[1., 2., 3.],\n",
       "        [4., 5., 6.]],\n",
       "\n",
       "       [[1., 2., 3.],\n",
       "        [4., 5., 6.]]], dtype=float32)"
      ]
     },
     "execution_count": 5,
     "metadata": {},
     "output_type": "execute_result"
    }
   ],
   "source": [
    "\n",
    "\n",
    "li = [[[1,2,3],[4,5,6]],\n",
    "      [[1,2,3],[4,5,6]]]\n",
    "\n",
    "three_d_tensor = np.array(li, dtype=np.float32)\n",
    "three_d_tensor"
   ]
  },
  {
   "cell_type": "code",
   "execution_count": 6,
   "id": "7934b97b",
   "metadata": {},
   "outputs": [
    {
     "data": {
      "text/plain": [
       "3"
      ]
     },
     "execution_count": 6,
     "metadata": {},
     "output_type": "execute_result"
    }
   ],
   "source": [
    "three_d_tensor.ndim #3 ->3차원 텐서"
   ]
  },
  {
   "cell_type": "code",
   "execution_count": 7,
   "id": "3a14cf42",
   "metadata": {},
   "outputs": [
    {
     "data": {
      "text/plain": [
       "(2, 2, 3)"
      ]
     },
     "execution_count": 7,
     "metadata": {},
     "output_type": "execute_result"
    }
   ],
   "source": [
    "three_d_tensor.shape #(2, 2, 3) -> 뒤에서부터 1차원요소(열), 2차원요소(행), 3차원요소(층?) 3차원이기때문에 3개의요소가 든 튜플반환."
   ]
  },
  {
   "cell_type": "code",
   "execution_count": 8,
   "id": "d5614a64",
   "metadata": {},
   "outputs": [
    {
     "data": {
      "text/plain": [
       "array([[1., 2., 3.],\n",
       "       [4., 5., 6.]], dtype=float32)"
      ]
     },
     "execution_count": 8,
     "metadata": {},
     "output_type": "execute_result"
    }
   ],
   "source": [
    "three_d_tensor[0] #2차원까지만 반환"
   ]
  },
  {
   "cell_type": "code",
   "execution_count": 9,
   "id": "51ccd710",
   "metadata": {},
   "outputs": [
    {
     "data": {
      "text/plain": [
       "(2, 3)"
      ]
     },
     "execution_count": 9,
     "metadata": {},
     "output_type": "execute_result"
    }
   ],
   "source": [
    "three_d_tensor[0].shape #3개의 열을가진 2개의 행"
   ]
  },
  {
   "cell_type": "code",
   "execution_count": 10,
   "id": "526b0ee7",
   "metadata": {},
   "outputs": [
    {
     "data": {
      "text/plain": [
       "{'data': (140666459554464, False),\n",
       " 'strides': None,\n",
       " 'descr': [('', '<f4')],\n",
       " 'typestr': '<f4',\n",
       " 'shape': (2, 2, 3),\n",
       " 'version': 3}"
      ]
     },
     "execution_count": 10,
     "metadata": {},
     "output_type": "execute_result"
    }
   ],
   "source": [
    "three_d_tensor.__array_interface__ #메타정보를 한번에 관리하는 매직속성"
   ]
  },
  {
   "cell_type": "code",
   "execution_count": 11,
   "id": "9a5d2f05",
   "metadata": {},
   "outputs": [
    {
     "data": {
      "text/plain": [
       "(24, 12, 4)"
      ]
     },
     "execution_count": 11,
     "metadata": {},
     "output_type": "execute_result"
    }
   ],
   "source": [
    "three_d_tensor.strides #뒤에서부터 하나의원소(4byte=float32자료형이기 때문), 1차원배열(4*3 =12byte), 2차원배열(12*2= 24byte)를 나타냄."
   ]
  },
  {
   "cell_type": "code",
   "execution_count": 12,
   "id": "6bce56ba",
   "metadata": {},
   "outputs": [
    {
     "name": "stdout",
     "output_type": "stream",
     "text": [
      "<memory at 0x7fef99ba1130>\n",
      "\n",
      "b'\\x00\\x00\\x80?\\x00\\x00\\x00@\\x00\\x00@@\\x00\\x00\\x80@\\x00\\x00\\xa0@\\x00\\x00\\xc0@\\x00\\x00\\x80?\\x00\\x00\\x00@\\x00\\x00@@\\x00\\x00\\x80@\\x00\\x00\\xa0@\\x00\\x00\\xc0@'\n",
      "\n",
      "48\n"
     ]
    }
   ],
   "source": [
    "print(three_d_tensor.data)\n",
    "print()\n",
    "print(three_d_tensor.data.tobytes())\n",
    "print()\n",
    "print(len(three_d_tensor.tobytes()))\n",
    "\n",
    "#.data로 메모리박스(의주소값)를 가져온다. 메모리박스는 원소들을 1차원배열로 관리한다.\n",
    "#.data.tobytes()로 메모리박스의 데이터를 가져온다.\n",
    "#three_d_tensor는 총12개의 원소로 돼있다. = 48bytes(원소 1개당 4bytes(32bits) )"
   ]
  },
  {
   "cell_type": "code",
   "execution_count": 13,
   "id": "ead29cdd",
   "metadata": {},
   "outputs": [
    {
     "data": {
      "text/plain": [
       "[[[1.0, 2.0, 3.0], [4.0, 5.0, 6.0]], [[1.0, 2.0, 3.0], [4.0, 5.0, 6.0]]]"
      ]
     },
     "execution_count": 13,
     "metadata": {},
     "output_type": "execute_result"
    }
   ],
   "source": [
    "three_d_tensor.tolist() #일반 리스트로 변환"
   ]
  },
  {
   "cell_type": "code",
   "execution_count": 14,
   "id": "dfe39c77",
   "metadata": {},
   "outputs": [
    {
     "name": "stdout",
     "output_type": "stream",
     "text": [
      "<memory at 0x7fef99ba0130>\n",
      "\n",
      "<memory at 0x7fef99afed40>\n"
     ]
    }
   ],
   "source": [
    "print(three_d_tensor.data)\n",
    "print()\n",
    "a = np.array([[1,2,3],[4,5,6]])\n",
    "mem = memoryview(a)\n",
    "print(mem)\n",
    "\n",
    "#data속성이 memoryview클래스로 만들어진것을 확인할 수 있다.\n",
    "# https://docs.python.org/ko/3/library/stdtypes.html#memoryview 참조"
   ]
  },
  {
   "cell_type": "code",
   "execution_count": 15,
   "id": "94c2be6b",
   "metadata": {},
   "outputs": [
    {
     "name": "stdout",
     "output_type": "stream",
     "text": [
      "[[[1. 2. 3.]\n",
      "  [4. 5. 6.]]\n",
      "\n",
      " [[1. 2. 3.]\n",
      "  [4. 5. 6.]]]\n",
      "--------------------\n",
      "[[1 2 3]\n",
      " [4 5 6]]\n"
     ]
    }
   ],
   "source": [
    "print(three_d_tensor.data.obj)\n",
    "print(\"--------------------\")\n",
    "print(mem.obj)\n",
    "\n",
    "#.data속성을 사용해서 보여지는 것들은 전부 memoryview클래스로 만들어진 것이기 때문에  \n",
    "#.data의 프로터티들은 전부 momoryview의 프로퍼티에서 따온것임을 짐작할 수 있다."
   ]
  },
  {
   "cell_type": "code",
   "execution_count": 16,
   "id": "1ad80b26",
   "metadata": {},
   "outputs": [
    {
     "name": "stdout",
     "output_type": "stream",
     "text": [
      "[]\n",
      "[[[1.0, 2.0, 3.0], [4.0, 5.0, 6.0]]]\n",
      "[[[1.0, 2.0, 3.0], [4.0, 5.0, 6.0]], [[1.0, 2.0, 3.0], [4.0, 5.0, 6.0]]]\n",
      "<memory at 0x7fef99ba0310> <memory at 0x7fef99ba0400> <memory at 0x7fef99ba04f0> <memory at 0x7fef99ba05e0>\n"
     ]
    }
   ],
   "source": [
    "A = three_d_tensor.data[0:0]\n",
    "B = three_d_tensor.data[0:1]\n",
    "C = three_d_tensor.data[0:2]\n",
    "D = three_d_tensor.data[0:0]\n",
    "\n",
    "print(A.tolist())\n",
    "print(B.tolist())\n",
    "print(C.tolist())\n",
    "print(A,B,C,D)\n",
    "\n",
    "#1차원 인덱싱을하면 서브뷰를 만든다."
   ]
  },
  {
   "cell_type": "code",
   "execution_count": 17,
   "id": "d81ae23c",
   "metadata": {},
   "outputs": [
    {
     "name": "stdout",
     "output_type": "stream",
     "text": [
      "float32\n",
      "4\n",
      "12\n",
      "0000803f0000004000004040000080400000a0400000c0400000803f0000004000004040000080400000a0400000c040\n"
     ]
    },
    {
     "data": {
      "text/plain": [
       "96"
      ]
     },
     "execution_count": 17,
     "metadata": {},
     "output_type": "execute_result"
    }
   ],
   "source": [
    "print(three_d_tensor.dtype) #자료형\n",
    "print(three_d_tensor.itemsize) #단일원소 바이트\n",
    "print(three_d_tensor.size) #원소의 총 개수(개)\n",
    "print(three_d_tensor.data.hex()) \n",
    "\n",
    "#모든요소를 16진수로 변환(16진수는 4비트 단위로 숫자를표시, 두개의 16진수가 하나의 바이트)\n",
    "#즉, 두개의 16진수 = 8개 문자 = 4바이트(32비트) = 원소 1개\n",
    "a = three_d_tensor.data.hex()\n",
    "len(a)"
   ]
  },
  {
   "cell_type": "code",
   "execution_count": 54,
   "id": "5add2c8a",
   "metadata": {},
   "outputs": [
    {
     "data": {
      "text/plain": [
       "(3, 2, 3)"
      ]
     },
     "execution_count": 54,
     "metadata": {},
     "output_type": "execute_result"
    }
   ],
   "source": [
    "tda = [[[10, 20, 30], [11,22,33]],\n",
    "       \n",
    "       [[100, 200, 300], [111, 222, 333]],\n",
    "       \n",
    "       [[1000, 2000, 3000],[1111, 2222, 3333]]]\n",
    "\n",
    "TDT = np.array(tda, dtype = np.float32)\n",
    "TDT.shape"
   ]
  },
  {
   "cell_type": "code",
   "execution_count": 84,
   "id": "c2cd44b8",
   "metadata": {},
   "outputs": [
    {
     "data": {
      "text/plain": [
       "[10.0, 20.0, 30.0, 11.0, 22.0, 33.0]"
      ]
     },
     "execution_count": 84,
     "metadata": {},
     "output_type": "execute_result"
    }
   ],
   "source": [
    "[i for i in TDT.flat if i < 100] #.flat속성을 사용하면 하나의 반복자를 제공한다."
   ]
  },
  {
   "cell_type": "code",
   "execution_count": 123,
   "id": "22ea9b4c",
   "metadata": {},
   "outputs": [
    {
     "name": "stdout",
     "output_type": "stream",
     "text": [
      "[  10.   20.   30.   11.   22.   33.  100.  200.  300.  111.  222.  333.\n",
      " 1000. 2000. 3000. 1111. 2222. 3333.]\n",
      "\n",
      "[[[  10.   20.   30.]\n",
      "  [  11.   22.   33.]]\n",
      "\n",
      " [[ 100.  200.  300.]\n",
      "  [ 111.  222.  333.]]\n",
      "\n",
      " [[1000. 2000. 3000.]\n",
      "  [1111. 2222. 3333.]]]\n"
     ]
    }
   ],
   "source": [
    "sub_TDT = np.frombuffer(TDT, dtype=np.float32)\n",
    "print(sub_TDT) #1차원 배열로 뷰를 만들어준다.\n",
    "print()\n",
    "print(sub_TDT.reshape(3,2,3)) #TDT와 동일하게 reshape."
   ]
  },
  {
   "cell_type": "code",
   "execution_count": 109,
   "id": "ac7ae27b",
   "metadata": {},
   "outputs": [
    {
     "name": "stdout",
     "output_type": "stream",
     "text": [
      "float32\n",
      "  C_CONTIGUOUS : True\n",
      "  F_CONTIGUOUS : True\n",
      "  OWNDATA : False\n",
      "  WRITEABLE : True\n",
      "  ALIGNED : True\n",
      "  WRITEBACKIFCOPY : False\n",
      "  UPDATEIFCOPY : False\n",
      "\n"
     ]
    }
   ],
   "source": [
    "print(sub_TDT.dtype)\n",
    "print(sub_TDT.flags) # OWNDATA : False -> 새로운 배열이 만들어진게 아닌 뷰가 만들어진것 but, sub_TDT is TDT -> False"
   ]
  },
  {
   "cell_type": "code",
   "execution_count": 113,
   "id": "bb5976fd",
   "metadata": {},
   "outputs": [
    {
     "name": "stdout",
     "output_type": "stream",
     "text": [
      "[[[  10.   20.   30.]\n",
      "  [  11.   22.   33.]]\n",
      "\n",
      " [[ 100.  200.  300.]\n",
      "  [ 111.  222.  333.]]\n",
      "\n",
      " [[1000. 2000. 3000.]\n",
      "  [1111. 2222. 3333.]]]\n"
     ]
    },
    {
     "data": {
      "text/plain": [
       "True"
      ]
     },
     "execution_count": 113,
     "metadata": {},
     "output_type": "execute_result"
    }
   ],
   "source": [
    "print(sub_TDT.base)\n",
    "sub_TDT.base is TDT\n",
    "#뷰가 만들어지면 원본 배열의 정보가 base 속성에 들어간다. sub_TDT.base 와 TD의 레퍼런스가 같음."
   ]
  },
  {
   "cell_type": "code",
   "execution_count": 114,
   "id": "764f26f5",
   "metadata": {},
   "outputs": [
    {
     "data": {
      "text/plain": [
       "  C_CONTIGUOUS : True\n",
       "  F_CONTIGUOUS : False\n",
       "  OWNDATA : True\n",
       "  WRITEABLE : True\n",
       "  ALIGNED : True\n",
       "  WRITEBACKIFCOPY : False\n",
       "  UPDATEIFCOPY : False"
      ]
     },
     "execution_count": 114,
     "metadata": {},
     "output_type": "execute_result"
    }
   ],
   "source": [
    "TDT.flags # OWNDATA : True"
   ]
  },
  {
   "cell_type": "code",
   "execution_count": null,
   "id": "f877cf3c",
   "metadata": {},
   "outputs": [],
   "source": []
  },
  {
   "cell_type": "code",
   "execution_count": 2,
   "id": "8c3a87b1",
   "metadata": {},
   "outputs": [],
   "source": [
    "#2021.7.12"
   ]
  },
  {
   "cell_type": "code",
   "execution_count": 37,
   "id": "ea3d4241",
   "metadata": {},
   "outputs": [
    {
     "name": "stdout",
     "output_type": "stream",
     "text": [
      "(<class 'object'>,)\n",
      "(<class 'numpy.ndarray'>,)\n"
     ]
    }
   ],
   "source": [
    "print(np.ndarray.__bases__)\n",
    "print(np.matrix.__bases__)\n",
    "#ndarray클래스는  object클래스만 상속했고, matrix클래스는 ndarray클래스를 상속한것"
   ]
  },
  {
   "cell_type": "code",
   "execution_count": 59,
   "id": "4f79af1f",
   "metadata": {},
   "outputs": [
    {
     "name": "stdout",
     "output_type": "stream",
     "text": [
      "(8,)\n",
      "(1, 8)\n"
     ]
    }
   ],
   "source": [
    "tensr = np.array([1,2,3,4,5,6,7,8])\n",
    "matrx = np.matrix([1,2,3,4,5,6,7,8])\n",
    "\n",
    "print(tensr.shape)\n",
    "print(matrx.shape)\n",
    "#tensr는 1차원으로이지만 matrx는 2차원으로 처리가 된다."
   ]
  },
  {
   "cell_type": "code",
   "execution_count": 61,
   "id": "91550ee8",
   "metadata": {},
   "outputs": [
    {
     "name": "stdout",
     "output_type": "stream",
     "text": [
      "[[1 2 3 4]\n",
      " [5 6 7 8]]\n",
      "[[1 2 3 4]\n",
      " [5 6 7 8]]\n",
      "(2, 4)\n",
      "(2, 4)\n"
     ]
    }
   ],
   "source": [
    "print(tensr.reshape(2,4))\n",
    "print(matrx.reshape(2,4))\n",
    "\n",
    "print(tensr.reshape(2,4).shape)\n",
    "print(matrx.reshape(2,4).shape)"
   ]
  },
  {
   "cell_type": "code",
   "execution_count": 65,
   "id": "0a433537",
   "metadata": {},
   "outputs": [
    {
     "name": "stdout",
     "output_type": "stream",
     "text": [
      "[[[1 2]\n",
      "  [3 4]]\n",
      "\n",
      " [[5 6]\n",
      "  [7 8]]]\n",
      "shape too large to be a matrix. 🤨\n"
     ]
    }
   ],
   "source": [
    "print(tensr.reshape(2,2,2))\n",
    "\n",
    "try:\n",
    "    matrx.reshape(2,2,2)\n",
    "except ValueError as vx:\n",
    "    print(vx,\"🤨\")\n",
    "    \n",
    "#matrix클래스는 2차운인 행렬만 처리가능하다."
   ]
  },
  {
   "cell_type": "code",
   "execution_count": 73,
   "id": "a07db491",
   "metadata": {},
   "outputs": [
    {
     "data": {
      "text/plain": [
       "matrix([[1, 2, 3, 4],\n",
       "        [5, 6, 7, 8]])"
      ]
     },
     "execution_count": 73,
     "metadata": {},
     "output_type": "execute_result"
    }
   ],
   "source": [
    "np.asmatrix(tensr).reshape(2,4) #다차원 배열을 matrix클래스의 인스턴스로 변환이 가능하다."
   ]
  },
  {
   "cell_type": "code",
   "execution_count": 75,
   "id": "a174d307",
   "metadata": {},
   "outputs": [
    {
     "data": {
      "text/plain": [
       "array([ 1,  4,  9, 16, 25, 36, 49, 64])"
      ]
     },
     "execution_count": 75,
     "metadata": {},
     "output_type": "execute_result"
    }
   ],
   "source": [
    "tensr * tensr #다차원 배열의 곱셈은 같은 인덱스의 원소끼리 곱한 값이다. len이 같으면 가능하다는 뜻."
   ]
  },
  {
   "cell_type": "code",
   "execution_count": 85,
   "id": "417d8606",
   "metadata": {},
   "outputs": [
    {
     "data": {
      "text/plain": [
       "matrix([[ 7, 10],\n",
       "        [15, 22]])"
      ]
     },
     "execution_count": 85,
     "metadata": {},
     "output_type": "execute_result"
    }
   ],
   "source": [
    "a = np.matrix([1,2,3,4]).reshape(2,2)\n",
    "a * a"
   ]
  },
  {
   "cell_type": "code",
   "execution_count": 86,
   "id": "0a6d45e6",
   "metadata": {},
   "outputs": [
    {
     "data": {
      "text/plain": [
       "matrix([[ 1,  4,  9, 16, 25, 36, 49, 64]])"
      ]
     },
     "execution_count": 86,
     "metadata": {},
     "output_type": "execute_result"
    }
   ],
   "source": [
    "np.multiply(matrx, matrx)\n",
    "\n",
    "\n",
    "#matrix곱셈은 행렬곱을 수행한다, 앞의 행렬의 열의 개수와 뒤 행렬의 행의 개수가 같은지 확인한다.\n",
    "#np.multiply함수를 사용해서 matrix객체의 곱셈을 해결 할 수 있다."
   ]
  },
  {
   "cell_type": "code",
   "execution_count": 102,
   "id": "094babed",
   "metadata": {},
   "outputs": [
    {
     "data": {
      "text/plain": [
       "{'A',\n",
       " 'A1',\n",
       " 'H',\n",
       " 'I',\n",
       " '__dict__',\n",
       " '__module__',\n",
       " '_align',\n",
       " '_collapse',\n",
       " 'getA',\n",
       " 'getA1',\n",
       " 'getH',\n",
       " 'getI',\n",
       " 'getT'}"
      ]
     },
     "execution_count": 102,
     "metadata": {},
     "output_type": "execute_result"
    }
   ],
   "source": [
    "nd_ = set(dir(np.ndarray))\n",
    "md_ = set(dir(np.matrix))\n",
    "\n",
    "md_ - nd_"
   ]
  },
  {
   "cell_type": "code",
   "execution_count": 104,
   "id": "64a70519",
   "metadata": {},
   "outputs": [],
   "source": [
    "from numpy import linalg"
   ]
  },
  {
   "cell_type": "code",
   "execution_count": 111,
   "id": "fb354c9e",
   "metadata": {},
   "outputs": [
    {
     "name": "stdout",
     "output_type": "stream",
     "text": [
      "[[1 2]\n",
      " [3 4]]\n",
      "[[-2.   1. ]\n",
      " [ 1.5 -0.5]]\n",
      "[[-2.   1. ]\n",
      " [ 1.5 -0.5]]\n"
     ]
    }
   ],
   "source": [
    "mat = np.mat('1 2; 3 4')\n",
    "print(mat)\n",
    "print(linalg.inv(mat))\n",
    "print(mat.I)\n",
    "\n",
    "#넘파이 모듈에서 선형대수를 처리하려면 linalg모듈을 참조해야한다. inv함수로 역행렬을 계산한다.. 행렬객체에서는 단순히 I속성으로 확인도 된다."
   ]
  }
 ],
 "metadata": {
  "kernelspec": {
   "display_name": "main",
   "language": "python",
   "name": "main"
  },
  "language_info": {
   "codemirror_mode": {
    "name": "ipython",
    "version": 3
   },
   "file_extension": ".py",
   "mimetype": "text/x-python",
   "name": "python",
   "nbconvert_exporter": "python",
   "pygments_lexer": "ipython3",
   "version": "3.9.5"
  }
 },
 "nbformat": 4,
 "nbformat_minor": 5
}
