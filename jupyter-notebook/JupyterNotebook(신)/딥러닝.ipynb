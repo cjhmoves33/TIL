{
 "cells": [
  {
   "cell_type": "code",
   "execution_count": 51,
   "id": "7d28765e",
   "metadata": {},
   "outputs": [],
   "source": [
    "# 2021.7.25 최소제곱법과, 평균제곱오차"
   ]
  },
  {
   "cell_type": "code",
   "execution_count": 52,
   "id": "27563565",
   "metadata": {},
   "outputs": [],
   "source": [
    "import numpy as np\n",
    "\n",
    "x = list([2, 4, 6 ,8])\n",
    "y = list([81, 93, 91, 97])\n",
    "\n",
    "mean_x = np.mean(x) # x의 평균\n",
    "mean_y = np.mean(y) #np.mean(arg)는 arg의 평균값을 구하는 함수. y의 평균\n",
    "\n",
    "\n",
    "divisor = sum([(i - mean_x)**2 for i in x])\n",
    "dividend = sum([(i-mean_x) * (j-mean_y) for i, j in zip(x, y)])\n",
    "\n",
    "a = dividend / divisor\n",
    "b = mean_y -(mean_x * a)"
   ]
  },
  {
   "cell_type": "code",
   "execution_count": 53,
   "id": "a98c0116",
   "metadata": {},
   "outputs": [
    {
     "name": "stdout",
     "output_type": "stream",
     "text": [
      "x의 평균값 : 5.0\n",
      "y의 평균값 : 90.5\n",
      "분모 : 20.0\n",
      "분자 : 46.0\n",
      "기울기 : 2.3\n",
      "y절편 : 79.0\n",
      "\n",
      "⬇️⬇️ 최소제곱법 ⬇️⬇️\n",
      "최소제곱법은 'y = ax + b' 에서 x와 y 값으로 '기울기 a ', 'y절편 b '를 구할 수 있게 해준다.\n",
      "최소제곱법은 주어진 x 의 값이 하나일 때 적용이 가능하다.\n",
      "y = 2.3x + 79\n"
     ]
    }
   ],
   "source": [
    "print(f\"x의 평균값 : {mean_x}\\ny의 평균값 : {mean_y}\\n분모 : {divisor}\\n분자 : {dividend}\\n기울기 : {a}\\ny절편 : {b}\\n\")\n",
    "print(\"⬇️⬇️ 최소제곱법 ⬇️⬇️\")\n",
    "print(\"최소제곱법은 'y = ax + b' 에서 x와 y 값으로 '기울기 a ', 'y절편 b '를 구할 수 있게 해준다.\", \"최소제곱법은 주어진 x 의 값이 하나일 때 적용이 가능하다.\", sep=\"\\n\")\n",
    "print(\"y = 2.3x + 79\")"
   ]
  },
  {
   "cell_type": "code",
   "execution_count": 54,
   "id": "e02152f5",
   "metadata": {},
   "outputs": [
    {
     "name": "stdout",
     "output_type": "stream",
     "text": [
      "공부시간:2, 실제점수:81, 예측점수:82\n",
      "공부시간:4, 실제점수:93, 예측점수:88\n",
      "공부시간:6, 실제점수:91, 예측점수:94\n",
      "공부시간:8, 실제점수:97, 예측점수:100\n",
      "MSE 최종값 : 11\n"
     ]
    }
   ],
   "source": [
    "#MSE(평균 제곱 오차)\n",
    "\n",
    "x = [2, 4, 6, 8]\n",
    "y = [81, 93, 91, 97]\n",
    "fake_a_b = [3, 76] # y = ax + b 에서 임의의 a, b 를 정한값.\n",
    "\n",
    "\n",
    "def predict(x):\n",
    "    return fake_a_b[0]*x + fake_a_b[1] # x를 인자로 넣고 임의의 a,b로 구한 y 값. \n",
    "\n",
    "\n",
    "def mse(y, y_hat):\n",
    "    return ((y - y_hat)**2).mean()\n",
    "\n",
    "\n",
    "def mse_val(y, predict_result):\n",
    "    return mse(np.array(y), np.array(predict_result))\n",
    "\n",
    "\n",
    "predict_result = list() #함수 predict로 구한 임의의 y 값.\n",
    "\n",
    "\n",
    "for i in range(len(x)):\n",
    "    predict_result.append(predict(x[i]))\n",
    "    print(f\"공부시간:{x[i]}, 실제점수:{y[i]}, 예측점수:{predict_result[i]}\")\n",
    "    \n",
    "\n",
    "mse_result = mse_val(y, predict_result)\n",
    "\n",
    "print(f\"MSE 최종값 : {int(mse_result)}\")"
   ]
  },
  {
   "cell_type": "code",
   "execution_count": null,
   "id": "0c466759",
   "metadata": {},
   "outputs": [],
   "source": []
  }
 ],
 "metadata": {
  "kernelspec": {
   "display_name": "Python 3 (ipykernel)",
   "language": "python",
   "name": "python3"
  },
  "language_info": {
   "codemirror_mode": {
    "name": "ipython",
    "version": 3
   },
   "file_extension": ".py",
   "mimetype": "text/x-python",
   "name": "python",
   "nbconvert_exporter": "python",
   "pygments_lexer": "ipython3",
   "version": "3.8.5"
  }
 },
 "nbformat": 4,
 "nbformat_minor": 5
}
