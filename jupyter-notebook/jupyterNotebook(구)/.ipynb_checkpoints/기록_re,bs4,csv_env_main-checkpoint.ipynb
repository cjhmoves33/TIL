{
 "cells": [
  {
   "cell_type": "code",
   "execution_count": null,
   "id": "026bd776",
   "metadata": {},
   "outputs": [],
   "source": [
    "#################### xml파일을 csv로 만들기 ####################\n",
    "\n",
    "#간단한 xml예제파일을 불러와서 beautifulsoup으로 파싱한다음, re모듈을 이용해서 필요한 부분들을 정규표현식으로 얻고\n",
    "#얻어낸 값들을 이용해서 csv파일로 만들었다.\n",
    "#간단한 코드이기때문에 키포인트만 짚고 넘어간다.\n",
    "\n",
    "\n",
    "import re\n",
    "from bs4 import BeautifulSoup\n",
    "import csv\n",
    "\n",
    "csv_header = []\n",
    "csv_content = []\n",
    "counter = 0\n",
    "\n",
    "with open(\"md_beautifulsoup_ex_xml.xml\",\"r\",encoding=\"utf8\")as file:\n",
    "    food_xml = file.read()\n",
    "soup = BeautifulSoup(food_xml, \"lxml\")\n",
    "soup_str = str(soup)\n",
    "\n",
    "name_all = re.findall(r\"(\\<)([name]{4})(\\>)([\\s\\S]+?)(\\<)(\\/)([name]{4})(\\>)\", soup_str)\n",
    "price_all = re.findall(r\"(\\<)([price]{5})(\\>)([\\s\\S]+?)(\\<)(\\/)([price]{5})(\\>)\", soup_str)\n",
    "cal_all = re.findall(r\"(\\<)([calories]{8})(\\>)([\\s\\S]+?)(\\<)(\\/)([calories]{8})(\\>)\", soup_str)\n",
    "\n",
    "\n",
    "for i,j,k in zip(name_all, price_all, cal_all):\n",
    "    if counter == 0:\n",
    "        csv_header = [\"kindOf\",i[1],j[1],k[1]]\n",
    "        counter +=1\n",
    "    content_container = [\"food\",i[3],j[3],k[3]]\n",
    "    csv_content.append(content_container)\n",
    "    \n",
    "with open(\"md_beautifulsoup_ex_csv.csv\", \"w\", encoding=\"utf8\")as mkcsv:\n",
    "    writer = csv.writer(mkcsv)\n",
    "    writer.writerow(csv_header)\n",
    "    writer.writerows(csv_content)\n",
    "################################### ⬇️md_beautifulsoup_ex_csv.csv⬇️ ##########################################\n",
    "kindOf,name,price,calories\n",
    "food,Belgian Waffles,$5.95,650\n",
    "food,Strawberry Belgian Waffles,$7.95,900\n",
    "food,Berry-Berry Belgian Waffles,$8.95,900\n",
    "food,French Toast,$4.50,600\n",
    "food,Homestyle Breakfast,$6.95,950\n",
    "################################### ⬆️md_beautifulsoup_ex_csv.csv⬆️ ##########################################\n",
    "\n",
    "#line19에서 파싱한xml파일을 다시 str로 변환해준이유는 파싱을 인스턴스인\"soup\"가 문자열객체가 아니기때문이다.(<class 'bs4.BeautifulSoup'>)\n",
    "#re모듈로 필요한값을 얻기위해서는 문자열 또는 문자열객체가 필요로하다.\n",
    "#for문에서 zip()을 써줬는데, zip()은 시퀀스인 인자를 받고 각각의 시퀀스들을 병렬적으로 사용한다.\n",
    "#헤더와 콘탠츠를 따로 구분해서 만들어줬다.\n",
    "#콘탠츠는 writerows로 처리하기위해 이차원배열(TwoDimensionArray)로 만들어줬다."
   ]
  }
 ],
 "metadata": {
  "kernelspec": {
   "display_name": "main",
   "language": "python",
   "name": "main"
  },
  "language_info": {
   "codemirror_mode": {
    "name": "ipython",
    "version": 3
   },
   "file_extension": ".py",
   "mimetype": "text/x-python",
   "name": "python",
   "nbconvert_exporter": "python",
   "pygments_lexer": "ipython3",
   "version": "3.9.5"
  }
 },
 "nbformat": 4,
 "nbformat_minor": 5
}
