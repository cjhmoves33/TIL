{
 "cells": [
  {
   "cell_type": "code",
   "execution_count": 161,
   "id": "11009254",
   "metadata": {},
   "outputs": [
    {
     "data": {
      "text/plain": [
       "36"
      ]
     },
     "execution_count": 161,
     "metadata": {},
     "output_type": "execute_result"
    }
   ],
   "source": [
    "import numpy as np\n",
    "import copy\n",
    "tensor = [[[1,2,3,4], [1,2,3,4], [1,2,3,4]],\n",
    "         [[1,2,3,4], [1,2,3,4], [1,2,3,4]],\n",
    "         [[1,2,3,4], [1,2,3,4], [1,2,3,4]]]\n",
    "\n",
    "test_arr = np.array(tensor, dtype=np.float32)\n",
    "\n",
    "test_arr.size"
   ]
  },
  {
   "cell_type": "code",
   "execution_count": null,
   "id": "b7e9e72f",
   "metadata": {},
   "outputs": [],
   "source": [
    "test_arr #float 32bits"
   ]
  },
  {
   "cell_type": "code",
   "execution_count": null,
   "id": "f9a38b4f",
   "metadata": {},
   "outputs": [],
   "source": [
    "test_arr.nbytes #32bits = 4byte, 4(bytes)*36(elements) = 144(bytes)"
   ]
  },
  {
   "cell_type": "code",
   "execution_count": null,
   "id": "f691a184",
   "metadata": {},
   "outputs": [],
   "source": [
    "np.array(tensor).shape #3D-Tensor"
   ]
  },
  {
   "cell_type": "code",
   "execution_count": null,
   "id": "8114e0ad",
   "metadata": {},
   "outputs": [],
   "source": [
    "np.array(tensor).reshape(3,3,2,2) #reshape 4D-Tensor"
   ]
  },
  {
   "cell_type": "code",
   "execution_count": null,
   "id": "19686fc3",
   "metadata": {},
   "outputs": [],
   "source": [
    "zero_d_t = 1 #scalars\n",
    "one_d_t = [1,2,3,4] #vector\n",
    "two_d_t = [[1,2,3,4], [1,2,3,4], [1,2,3,4]] #matrix"
   ]
  },
  {
   "cell_type": "code",
   "execution_count": null,
   "id": "737f09ad",
   "metadata": {},
   "outputs": [],
   "source": [
    "np.array(zero_d_t).ndim #scalars"
   ]
  },
  {
   "cell_type": "code",
   "execution_count": null,
   "id": "a67473e4",
   "metadata": {},
   "outputs": [],
   "source": [
    "np.array(one_d_t).ndim #vector"
   ]
  },
  {
   "cell_type": "code",
   "execution_count": null,
   "id": "eba9bd28",
   "metadata": {},
   "outputs": [],
   "source": [
    "np.array(two_d_t).ndim #matrix(행렬)"
   ]
  },
  {
   "cell_type": "code",
   "execution_count": 181,
   "id": "3663c432",
   "metadata": {},
   "outputs": [
    {
     "data": {
      "text/plain": [
       "array([[1., 2., 3., 4.],\n",
       "       [5., 6., 7., 8.]], dtype=float32)"
      ]
     },
     "execution_count": 181,
     "metadata": {},
     "output_type": "execute_result"
    }
   ],
   "source": [
    "T = [[1,2,3,4],[5,6,7,8]]\n",
    "tdt = np.array(T, dtype=np.float32)\n",
    "tdt"
   ]
  },
  {
   "cell_type": "code",
   "execution_count": 182,
   "id": "0c3725ec",
   "metadata": {},
   "outputs": [],
   "source": [
    "tdt_2 = copy.copy(tdt)\n",
    "tdt_2[0][0] = 100"
   ]
  },
  {
   "cell_type": "code",
   "execution_count": 190,
   "id": "a27b2e34",
   "metadata": {},
   "outputs": [
    {
     "data": {
      "text/plain": [
       "array([[1., 2., 3., 4.],\n",
       "       [5., 6., 7., 8.]], dtype=float32)"
      ]
     },
     "execution_count": 190,
     "metadata": {},
     "output_type": "execute_result"
    }
   ],
   "source": [
    "tdt"
   ]
  },
  {
   "cell_type": "code",
   "execution_count": 193,
   "id": "8b0a350d",
   "metadata": {},
   "outputs": [
    {
     "ename": "TypeError",
     "evalue": "unhashable type: 'list'",
     "output_type": "error",
     "traceback": [
      "\u001b[0;31m---------------------------------------------------------------------------\u001b[0m",
      "\u001b[0;31mTypeError\u001b[0m                                 Traceback (most recent call last)",
      "\u001b[0;32m<ipython-input-193-1680e72c5b69>\u001b[0m in \u001b[0;36m<module>\u001b[0;34m\u001b[0m\n\u001b[0;32m----> 1\u001b[0;31m \u001b[0mhash\u001b[0m\u001b[0;34m(\u001b[0m\u001b[0;34m(\u001b[0m\u001b[0;36m1\u001b[0m\u001b[0;34m,\u001b[0m\u001b[0;34m[\u001b[0m\u001b[0;36m1\u001b[0m\u001b[0;34m]\u001b[0m\u001b[0;34m,\u001b[0m\u001b[0;36m2\u001b[0m\u001b[0;34m,\u001b[0m\u001b[0;36m3\u001b[0m\u001b[0;34m)\u001b[0m\u001b[0;34m)\u001b[0m\u001b[0;34m\u001b[0m\u001b[0;34m\u001b[0m\u001b[0m\n\u001b[0m",
      "\u001b[0;31mTypeError\u001b[0m: unhashable type: 'list'"
     ]
    }
   ],
   "source": []
  }
 ],
 "metadata": {
  "kernelspec": {
   "display_name": "main",
   "language": "python",
   "name": "main"
  },
  "language_info": {
   "codemirror_mode": {
    "name": "ipython",
    "version": 3
   },
   "file_extension": ".py",
   "mimetype": "text/x-python",
   "name": "python",
   "nbconvert_exporter": "python",
   "pygments_lexer": "ipython3",
   "version": "3.9.5"
  }
 },
 "nbformat": 4,
 "nbformat_minor": 5
}
